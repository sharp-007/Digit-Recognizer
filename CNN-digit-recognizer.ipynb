{
 "cells": [
  {
   "cell_type": "code",
   "execution_count": 1,
   "metadata": {
    "_cell_guid": "b1076dfc-b9ad-4769-8c92-a6c4dae69d19",
    "_uuid": "8f2839f25d086af736a60e9eeb907d3b93b6e0e5",
    "execution": {
     "iopub.execute_input": "2022-06-21T06:11:24.745183Z",
     "iopub.status.busy": "2022-06-21T06:11:24.744905Z",
     "iopub.status.idle": "2022-06-21T06:11:35.186932Z",
     "shell.execute_reply": "2022-06-21T06:11:35.186179Z",
     "shell.execute_reply.started": "2022-06-21T06:11:24.745134Z"
    }
   },
   "outputs": [],
   "source": [
    "import numpy as np # linear algebra\n",
    "import pandas as pd # data processing, CSV file I/O (e.g. pd.read_csv)\n",
    "from subprocess import check_output\n",
    "import keras\n",
    "from setuptools.command.setopt import option_base\n",
    "from tensorflow.python.keras.models import Sequential\n",
    "from tensorflow.python.keras.layers import InputLayer\n",
    "from tensorflow.python.keras.layers import MaxPooling2D, MaxPool2D\n",
    "from tensorflow.python.keras.layers import Conv2D, Dense, Flatten,BatchNormalization,Dropout\n",
    "from tensorflow.python.keras.optimizers import Adam\n",
    "from keras.optimizers import RMSprop\n",
    "from sklearn.model_selection import train_test_split\n",
    "from keras.utils import to_categorical\n",
    "from keras.preprocessing.image import ImageDataGenerator\n",
    "from keras.callbacks import ReduceLROnPlateau\n",
    "\n",
    "from keras.models import Sequential\n",
    "from keras.layers import Dense, Dropout, Flatten, Conv2D, MaxPool2D\n",
    "from keras.layers.normalization import BatchNormalization\n",
    "from keras.preprocessing.image import ImageDataGenerator\n",
    "from keras.callbacks import ReduceLROnPlateau\n",
    "from sklearn.model_selection import train_test_split\n",
    "\n",
    "import matplotlib.pyplot as plt\n",
    "\n",
    "\n",
    "train = pd.read_csv(\"../input/digit-recognizer/train.csv\")\n",
    "test_orj  = pd.read_csv(\"../input/digit-recognizer/test.csv\")\n",
    "\n",
    "print(\"Training set has {0[0]} rows and {0[1]} columns\".format(train.shape))\n",
    "print(\"Test set has {0[0]} rows and {0[1]} columns\".format(test_orj.shape))"
   ]
  },
  {
   "cell_type": "code",
   "execution_count": 2,
   "metadata": {
    "_cell_guid": "79c7e3d0-c299-4dcb-8224-4455121ee9b0",
    "_uuid": "d629ff2d2480ee46fbb7e2d37f6b5fab8052498a",
    "execution": {
     "iopub.execute_input": "2022-06-21T06:11:44.493963Z",
     "iopub.status.busy": "2022-06-21T06:11:44.493601Z",
     "iopub.status.idle": "2022-06-21T06:11:44.671698Z",
     "shell.execute_reply": "2022-06-21T06:11:44.671011Z",
     "shell.execute_reply.started": "2022-06-21T06:11:44.493911Z"
    }
   },
   "outputs": [],
   "source": [
    "# put labels into y_train variable\n",
    "Y_train = train[\"label\"]\n",
    "# Drop 'label' column\n",
    "X_train = train.drop(labels = [\"label\"],axis = 1) "
   ]
  },
  {
   "cell_type": "code",
   "execution_count": 3,
   "metadata": {
    "_uuid": "35e207a11a147650860ec4889b1515799a529885",
    "execution": {
     "iopub.execute_input": "2022-06-21T06:11:49.636736Z",
     "iopub.status.busy": "2022-06-21T06:11:49.636451Z",
     "iopub.status.idle": "2022-06-21T06:11:50.194680Z",
     "shell.execute_reply": "2022-06-21T06:11:50.193722Z",
     "shell.execute_reply.started": "2022-06-21T06:11:49.636686Z"
    }
   },
   "outputs": [],
   "source": [
    "import seaborn as sns\n",
    "import matplotlib.pyplot as plt\n",
    "# visualize number of digits classes\n",
    "plt.figure(figsize=(15,7))\n",
    "sns.countplot(Y_train)\n",
    "plt.title(\"Number of digit classes\")\n",
    "Y_train.value_counts()"
   ]
  },
  {
   "cell_type": "code",
   "execution_count": 4,
   "metadata": {
    "_uuid": "5b4dd7b0a5005464e77b980c4e6e2a63df55f150",
    "execution": {
     "iopub.execute_input": "2022-06-21T06:11:55.641869Z",
     "iopub.status.busy": "2022-06-21T06:11:55.641547Z",
     "iopub.status.idle": "2022-06-21T06:11:55.751016Z",
     "shell.execute_reply": "2022-06-21T06:11:55.750078Z",
     "shell.execute_reply.started": "2022-06-21T06:11:55.641813Z"
    }
   },
   "outputs": [],
   "source": [
    "# plot some samples\n",
    "print(type(X_train))\n",
    "img = X_train.iloc[1].as_matrix()\n",
    "img = img.reshape((28,28))\n",
    "plt.imshow(img,cmap='gray')\n",
    "plt.title(train.iloc[0,0])\n",
    "plt.axis(\"off\")\n",
    "plt.show()"
   ]
  },
  {
   "cell_type": "code",
   "execution_count": 5,
   "metadata": {
    "_uuid": "2f0cdbd5e088c07d477b766f91ebcb69125ee147",
    "execution": {
     "iopub.execute_input": "2022-06-21T06:11:59.283681Z",
     "iopub.status.busy": "2022-06-21T06:11:59.283409Z",
     "iopub.status.idle": "2022-06-21T06:12:00.832252Z",
     "shell.execute_reply": "2022-06-21T06:12:00.831500Z",
     "shell.execute_reply.started": "2022-06-21T06:11:59.283633Z"
    }
   },
   "outputs": [],
   "source": [
    "# Normalize the data\n",
    "X_train = X_train / 255.0\n",
    "test = test_orj.copy() / 255.0\n",
    "\n",
    "# Reshape\n",
    "X_train = X_train.values.reshape(-1,28,28,1)\n",
    "test = test.values.reshape(-1,28,28,1)\n",
    "\n",
    "# Label Encoding \n",
    "from keras.utils.np_utils import to_categorical # convert to one-hot-encoding\n",
    "Y_train = to_categorical(Y_train, num_classes = 10)\n",
    "\n",
    "# Split the train and the validation set for the fitting\n",
    "from sklearn.model_selection import train_test_split\n",
    "X_train, X_val, Y_train, Y_val = train_test_split(X_train, Y_train, test_size = 0.1, random_state=2)\n",
    "print(\"x_train shape\",X_train.shape)\n",
    "print(\"x_val shape\",X_val.shape)\n",
    "print(\"y_train shape\",Y_train.shape)\n",
    "print(\"y_test shape\",Y_val.shape)"
   ]
  },
  {
   "cell_type": "code",
   "execution_count": 6,
   "metadata": {
    "_uuid": "4453d627f2b6fed7afddfbb2eb8e1bed2711d464",
    "execution": {
     "iopub.execute_input": "2022-06-21T06:12:03.686267Z",
     "iopub.status.busy": "2022-06-21T06:12:03.685977Z",
     "iopub.status.idle": "2022-06-21T06:12:03.693246Z",
     "shell.execute_reply": "2022-06-21T06:12:03.692105Z",
     "shell.execute_reply.started": "2022-06-21T06:12:03.686220Z"
    }
   },
   "outputs": [],
   "source": [
    "Y_train[0]"
   ]
  },
  {
   "cell_type": "code",
   "execution_count": 7,
   "metadata": {
    "_uuid": "0f2ca4953cb0065569ed3923cc6f903d38fce271",
    "execution": {
     "iopub.execute_input": "2022-06-21T06:12:07.772075Z",
     "iopub.status.busy": "2022-06-21T06:12:07.771795Z",
     "iopub.status.idle": "2022-06-21T06:12:07.862807Z",
     "shell.execute_reply": "2022-06-21T06:12:07.861881Z",
     "shell.execute_reply.started": "2022-06-21T06:12:07.772028Z"
    }
   },
   "outputs": [],
   "source": [
    "from keras import backend as K\n",
    "def recall(y_true, y_pred):\n",
    "    \"\"\"Recall metric.\n",
    "\n",
    "    Only computes a batch-wise average of recall.\n",
    "\n",
    "    Computes the recall, a metric for multi-label classification of\n",
    "    how many relevant items are selected.\n",
    "    \"\"\"\n",
    "    true_positives = K.sum(K.round(K.clip(y_true * y_pred, 0, 1)))\n",
    "    possible_positives = K.sum(K.round(K.clip(y_true, 0, 1)))\n",
    "    recall = true_positives / (possible_positives + K.epsilon())\n",
    "    return recall\n",
    "\n",
    "\n",
    "# Select optimizer\n",
    "sgd = keras.optimizers.SGD(lr=1e-4, momentum=0.9)\n",
    "rms_prop = keras.optimizers.RMSprop(lr=1e-4)\n",
    "adam = keras.optimizers.adam(lr=1e-4, beta_1=0.9, beta_2=0.999, epsilon=1e-08) \n",
    "adamax = keras.optimizers.Adamax(lr=1e-4, beta_1=0.9, beta_2=0.999, epsilon=None, decay=0.0)\n",
    "adadelta = keras.optimizers.Adadelta(lr=1.0, rho=0.95, epsilon=1e-08, decay=0.0)\n",
    "\n",
    "learning_rate_reduction = ReduceLROnPlateau(monitor='val_acc', \n",
    "                                            patience=3, \n",
    "                                            verbose=1, \n",
    "                                            factor=0.5, \n",
    "                                            min_lr=0.0001)\n"
   ]
  },
  {
   "cell_type": "code",
   "execution_count": 8,
   "metadata": {
    "_uuid": "f9561e3b0b02fd0abb68a1d4fe5f4d33e0e6d1e8",
    "execution": {
     "iopub.execute_input": "2022-06-21T06:12:18.691837Z",
     "iopub.status.busy": "2022-06-21T06:12:18.691553Z",
     "iopub.status.idle": "2022-06-21T06:12:18.841636Z",
     "shell.execute_reply": "2022-06-21T06:12:18.840868Z",
     "shell.execute_reply.started": "2022-06-21T06:12:18.691786Z"
    }
   },
   "outputs": [],
   "source": [
    "batch_size = 86\n",
    "num_classes = 10\n",
    "epochs = 100\n",
    "input_shape = (28, 28, 1)\n",
    "\n",
    "model = Sequential()\n",
    "\n",
    "model.add(Conv2D(32, kernel_size=(3, 3),padding='same',activation='relu',input_shape=input_shape))\n",
    "model.add(Conv2D(32,kernel_size=(3, 3), activation='relu'))\n",
    "model.add(MaxPool2D((2, 2)))\n",
    "model.add(Dropout(0.25))\n",
    "\n",
    "model.add(Conv2D(64,kernel_size=(3, 3),padding='same', activation='relu'))\n",
    "model.add(Conv2D(64,kernel_size=(3, 3),activation='relu'))\n",
    "model.add(MaxPool2D((2, 2)))\n",
    "model.add(Dropout(0.25))\n",
    "\n",
    "model.add(Flatten())\n",
    "model.add(Dense(512, activation='relu'))\n",
    "model.add(Dropout(0.5))\n",
    "model.add(Dense(10, activation = \"softmax\"))"
   ]
  },
  {
   "cell_type": "code",
   "execution_count": 9,
   "metadata": {
    "_uuid": "ed0626815a145d30148252b50d0080b4f517fea6",
    "execution": {
     "iopub.execute_input": "2022-06-21T06:12:21.594733Z",
     "iopub.status.busy": "2022-06-21T06:12:21.594459Z",
     "iopub.status.idle": "2022-06-21T06:12:21.638288Z",
     "shell.execute_reply": "2022-06-21T06:12:21.637610Z",
     "shell.execute_reply.started": "2022-06-21T06:12:21.594685Z"
    }
   },
   "outputs": [],
   "source": [
    "model.compile(loss=keras.losses.categorical_crossentropy,\n",
    "              optimizer=adam,\n",
    "              metrics=['accuracy', recall])"
   ]
  },
  {
   "cell_type": "code",
   "execution_count": 10,
   "metadata": {
    "_uuid": "2df66047b68371d20c8efa9852791fad1981c2ed",
    "execution": {
     "iopub.execute_input": "2022-06-21T06:12:24.315149Z",
     "iopub.status.busy": "2022-06-21T06:12:24.314872Z",
     "iopub.status.idle": "2022-06-21T06:12:24.489286Z",
     "shell.execute_reply": "2022-06-21T06:12:24.488564Z",
     "shell.execute_reply.started": "2022-06-21T06:12:24.315102Z"
    }
   },
   "outputs": [],
   "source": [
    "datagenn = ImageDataGenerator(\n",
    "        featurewise_center=False,  # set input mean to 0 over the dataset\n",
    "        samplewise_center=False,  # set each sample mean to 0\n",
    "        featurewise_std_normalization=False,  # divide inputs by std of the dataset\n",
    "        samplewise_std_normalization=False,  # divide each input by its std\n",
    "        zca_whitening=False,  # apply ZCA whitening\n",
    "        rotation_range=10,  # randomly rotate images in the range (degrees, 0 to 180)\n",
    "        zoom_range = 0.1, # Randomly zoom image \n",
    "        width_shift_range=0.1,  # randomly shift images horizontally (fraction of total width)\n",
    "        height_shift_range=0.1,  # randomly shift images vertically (fraction of total height)\n",
    "        horizontal_flip=False,  # randomly flip images\n",
    "        vertical_flip=False)  # randomly flip images\n",
    "\n",
    "\n",
    "datagenn.fit(X_train)"
   ]
  },
  {
   "cell_type": "code",
   "execution_count": 11,
   "metadata": {
    "_uuid": "9497324027111394e3d1c48550ff140a5c964319",
    "execution": {
     "iopub.execute_input": "2022-06-21T06:12:30.843448Z",
     "iopub.status.busy": "2022-06-21T06:12:30.843178Z",
     "iopub.status.idle": "2022-06-21T06:28:13.262279Z",
     "shell.execute_reply": "2022-06-21T06:28:13.261500Z",
     "shell.execute_reply.started": "2022-06-21T06:12:30.843398Z"
    }
   },
   "outputs": [],
   "source": [
    "\n",
    "history = model.fit_generator(datagenn.flow(X_train,Y_train, batch_size=batch_size),\n",
    "                              epochs = epochs, validation_data = (X_val,Y_val),\n",
    "                              verbose = 2, steps_per_epoch=X_train.shape[0] // batch_size\n",
    "                              , callbacks=[learning_rate_reduction],)\n",
    "result = model.evaluate(x=X_train, y=Y_train)\n",
    "print('Accuracy:', result[1])"
   ]
  },
  {
   "cell_type": "code",
   "execution_count": 12,
   "metadata": {
    "_uuid": "3726e09f97f6cee21063897ab2033ab0077c202d",
    "execution": {
     "iopub.execute_input": "2022-06-21T06:31:54.838428Z",
     "iopub.status.busy": "2022-06-21T06:31:54.838162Z",
     "iopub.status.idle": "2022-06-21T06:31:55.020806Z",
     "shell.execute_reply": "2022-06-21T06:31:55.019927Z",
     "shell.execute_reply.started": "2022-06-21T06:31:54.838382Z"
    }
   },
   "outputs": [],
   "source": [
    "plt.plot(history.history['loss'])\n",
    "plt.title(\"Model Loss\")\n",
    "plt.xlabel('Epochs')\n",
    "plt.ylabel('Loss')\n",
    "plt.legend(['Train', 'Test'])\n",
    "plt.show()"
   ]
  },
  {
   "cell_type": "code",
   "execution_count": 13,
   "metadata": {
    "_uuid": "d1f996725cb2ee0513fce930917275a468a58b2a",
    "execution": {
     "iopub.execute_input": "2022-06-21T06:32:02.321310Z",
     "iopub.status.busy": "2022-06-21T06:32:02.321036Z",
     "iopub.status.idle": "2022-06-21T06:32:02.516645Z",
     "shell.execute_reply": "2022-06-21T06:32:02.515872Z",
     "shell.execute_reply.started": "2022-06-21T06:32:02.321261Z"
    }
   },
   "outputs": [],
   "source": [
    "plt.plot(history.history['acc'])\n",
    "plt.title('Model Accuracy')\n",
    "plt.xlabel('Epochs')\n",
    "plt.ylabel('Accuracy')\n",
    "plt.legend(['Train','Test'])\n",
    "plt.show()"
   ]
  },
  {
   "cell_type": "code",
   "execution_count": 14,
   "metadata": {
    "_uuid": "6cf1f1c8264b5d615ec1501ad7c96f1a53cab06d",
    "execution": {
     "iopub.execute_input": "2022-06-21T06:32:09.888416Z",
     "iopub.status.busy": "2022-06-21T06:32:09.888096Z",
     "iopub.status.idle": "2022-06-21T06:32:10.873373Z",
     "shell.execute_reply": "2022-06-21T06:32:10.872365Z",
     "shell.execute_reply.started": "2022-06-21T06:32:09.888374Z"
    }
   },
   "outputs": [],
   "source": [
    "# confusion matrix\n",
    "import seaborn as sns\n",
    "from sklearn.metrics import confusion_matrix\n",
    "# Predict the values from the validation dataset\n",
    "Y_pred = model.predict(X_val)\n",
    "# Convert predictions classes to one hot vectors \n",
    "Y_pred_classes = np.argmax(Y_pred,axis = 1) \n",
    "# Convert validation observations to one hot vectors\n",
    "Y_true = np.argmax(Y_val,axis = 1) \n",
    "# compute the confusion matrix\n",
    "confusion_mtx = confusion_matrix(Y_true, Y_pred_classes) \n",
    "# plot the confusion matrix\n",
    "f,ax = plt.subplots(figsize=(8, 8))\n",
    "sns.heatmap(confusion_mtx, annot=True, linewidths=0.01,cmap=\"Greens\",linecolor=\"gray\", fmt= '.1f',ax=ax)\n",
    "plt.xlabel(\"Predicted Label\")\n",
    "plt.ylabel(\"True Label\")\n",
    "plt.title(\"Confusion Matrix\")\n",
    "plt.show()"
   ]
  },
  {
   "cell_type": "code",
   "execution_count": 15,
   "metadata": {
    "_uuid": "f8b5b42f52afc340748bce360cb45090b0d9853a",
    "execution": {
     "iopub.execute_input": "2022-06-21T06:32:16.337723Z",
     "iopub.status.busy": "2022-06-21T06:32:16.337442Z",
     "iopub.status.idle": "2022-06-21T06:32:18.116176Z",
     "shell.execute_reply": "2022-06-21T06:32:18.115346Z",
     "shell.execute_reply.started": "2022-06-21T06:32:16.337672Z"
    }
   },
   "outputs": [],
   "source": [
    "pred_digits_test=np.argmax(model.predict(test),axis=1)\n",
    "image_id_test=[]\n",
    "for i in range (len(pred_digits_test)):\n",
    "    image_id_test.append(i+1)\n",
    "d={'ImageId':image_id_test,'Label':pred_digits_test}\n",
    "answer=pd.DataFrame(d)\n",
    "answer.to_csv('result_0601_1401.csv',index=False)\n",
    "\n",
    "plt.figure(figsize=(10,5))\n",
    "sns.countplot(pred_digits_test)\n",
    "plt.title(\"(Test data) Number of Digits classes\")"
   ]
  }
 ],
 "metadata": {
  "kernelspec": {
   "display_name": "Python 3",
   "language": "python",
   "name": "python3"
  },
  "language_info": {
   "codemirror_mode": {
    "name": "ipython",
    "version": 3
   },
   "file_extension": ".py",
   "mimetype": "text/x-python",
   "name": "python",
   "nbconvert_exporter": "python",
   "pygments_lexer": "ipython3",
   "version": "3.8.5"
  },
  "toc": {
   "base_numbering": 1,
   "nav_menu": {},
   "number_sections": true,
   "sideBar": true,
   "skip_h1_title": false,
   "title_cell": "Table of Contents",
   "title_sidebar": "Contents",
   "toc_cell": false,
   "toc_position": {},
   "toc_section_display": true,
   "toc_window_display": false
  }
 },
 "nbformat": 4,
 "nbformat_minor": 4
}
